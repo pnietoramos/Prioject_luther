{
 "cells": [
  {
   "cell_type": "code",
   "execution_count": 1,
   "metadata": {},
   "outputs": [],
   "source": [
    "import io\n",
    "import pandas as pd\n",
    "import requests\n",
    "from datetime import datetime as dt\n",
    "import matplotlib.pyplot as plt"
   ]
  },
  {
   "cell_type": "code",
   "execution_count": 2,
   "metadata": {},
   "outputs": [],
   "source": [
    "file_url = \"http://web.mta.info/developers/data/nyct/turnstile/turnstile_170624.txt\"\n",
    "s = requests.get(file_url).content\n",
    "turns_df = pd.read_csv(io.StringIO(s.decode('utf-8')))"
   ]
  },
  {
   "cell_type": "code",
   "execution_count": 3,
   "metadata": {},
   "outputs": [
    {
     "data": {
      "text/plain": [
       "197416"
      ]
     },
     "execution_count": 3,
     "metadata": {},
     "output_type": "execute_result"
    }
   ],
   "source": [
    "len(turns_df)"
   ]
  },
  {
   "cell_type": "code",
   "execution_count": 4,
   "metadata": {},
   "outputs": [
    {
     "data": {
      "text/plain": [
       "Index(['C/A', 'UNIT', 'SCP', 'STATION', 'LINENAME', 'DIVISION', 'DATE', 'TIME',\n",
       "       'DESC', 'ENTRIES',\n",
       "       'EXITS                                                               '],\n",
       "      dtype='object')"
      ]
     },
     "execution_count": 4,
     "metadata": {},
     "output_type": "execute_result"
    }
   ],
   "source": [
    "turns_df.columns"
   ]
  },
  {
   "cell_type": "code",
   "execution_count": 5,
   "metadata": {},
   "outputs": [
    {
     "data": {
      "text/plain": [
       "Index(['C/A', 'UNIT', 'SCP', 'STATION', 'LINENAME', 'DIVISION', 'DATE', 'TIME',\n",
       "       'DESC', 'ENTRIES', 'EXITS'],\n",
       "      dtype='object')"
      ]
     },
     "execution_count": 5,
     "metadata": {},
     "output_type": "execute_result"
    }
   ],
   "source": [
    "turns_df.rename(columns={column:column.strip() for column in turns_df.columns}, inplace=True)\n",
    "turns_df.columns"
   ]
  },
  {
   "cell_type": "code",
   "execution_count": 6,
   "metadata": {},
   "outputs": [
    {
     "data": {
      "text/html": [
       "<div>\n",
       "<style scoped>\n",
       "    .dataframe tbody tr th:only-of-type {\n",
       "        vertical-align: middle;\n",
       "    }\n",
       "\n",
       "    .dataframe tbody tr th {\n",
       "        vertical-align: top;\n",
       "    }\n",
       "\n",
       "    .dataframe thead th {\n",
       "        text-align: right;\n",
       "    }\n",
       "</style>\n",
       "<table border=\"1\" class=\"dataframe\">\n",
       "  <thead>\n",
       "    <tr style=\"text-align: right;\">\n",
       "      <th></th>\n",
       "      <th>C/A</th>\n",
       "      <th>UNIT</th>\n",
       "      <th>SCP</th>\n",
       "      <th>STATION</th>\n",
       "      <th>LINENAME</th>\n",
       "      <th>DIVISION</th>\n",
       "      <th>DATE</th>\n",
       "      <th>TIME</th>\n",
       "      <th>DESC</th>\n",
       "      <th>ENTRIES</th>\n",
       "      <th>EXITS</th>\n",
       "      <th>DATE_TIME</th>\n",
       "      <th>REAL_ENTRIES</th>\n",
       "      <th>REAL_EXITS</th>\n",
       "    </tr>\n",
       "  </thead>\n",
       "  <tbody>\n",
       "    <tr>\n",
       "      <th>0</th>\n",
       "      <td>A002</td>\n",
       "      <td>R051</td>\n",
       "      <td>02-00-00</td>\n",
       "      <td>59 ST</td>\n",
       "      <td>NQR456W</td>\n",
       "      <td>BMT</td>\n",
       "      <td>06/17/2017</td>\n",
       "      <td>00:00:00</td>\n",
       "      <td>REGULAR</td>\n",
       "      <td>6224816</td>\n",
       "      <td>2107317</td>\n",
       "      <td>2017-06-17 00:00:00</td>\n",
       "      <td>NaN</td>\n",
       "      <td>NaN</td>\n",
       "    </tr>\n",
       "    <tr>\n",
       "      <th>1</th>\n",
       "      <td>A002</td>\n",
       "      <td>R051</td>\n",
       "      <td>02-00-00</td>\n",
       "      <td>59 ST</td>\n",
       "      <td>NQR456W</td>\n",
       "      <td>BMT</td>\n",
       "      <td>06/17/2017</td>\n",
       "      <td>04:00:00</td>\n",
       "      <td>REGULAR</td>\n",
       "      <td>6224850</td>\n",
       "      <td>2107322</td>\n",
       "      <td>2017-06-17 04:00:00</td>\n",
       "      <td>34.0</td>\n",
       "      <td>5.0</td>\n",
       "    </tr>\n",
       "    <tr>\n",
       "      <th>2</th>\n",
       "      <td>A002</td>\n",
       "      <td>R051</td>\n",
       "      <td>02-00-00</td>\n",
       "      <td>59 ST</td>\n",
       "      <td>NQR456W</td>\n",
       "      <td>BMT</td>\n",
       "      <td>06/17/2017</td>\n",
       "      <td>08:00:00</td>\n",
       "      <td>REGULAR</td>\n",
       "      <td>6224885</td>\n",
       "      <td>2107352</td>\n",
       "      <td>2017-06-17 08:00:00</td>\n",
       "      <td>35.0</td>\n",
       "      <td>30.0</td>\n",
       "    </tr>\n",
       "    <tr>\n",
       "      <th>3</th>\n",
       "      <td>A002</td>\n",
       "      <td>R051</td>\n",
       "      <td>02-00-00</td>\n",
       "      <td>59 ST</td>\n",
       "      <td>NQR456W</td>\n",
       "      <td>BMT</td>\n",
       "      <td>06/17/2017</td>\n",
       "      <td>12:00:00</td>\n",
       "      <td>REGULAR</td>\n",
       "      <td>6225005</td>\n",
       "      <td>2107452</td>\n",
       "      <td>2017-06-17 12:00:00</td>\n",
       "      <td>120.0</td>\n",
       "      <td>100.0</td>\n",
       "    </tr>\n",
       "    <tr>\n",
       "      <th>4</th>\n",
       "      <td>A002</td>\n",
       "      <td>R051</td>\n",
       "      <td>02-00-00</td>\n",
       "      <td>59 ST</td>\n",
       "      <td>NQR456W</td>\n",
       "      <td>BMT</td>\n",
       "      <td>06/17/2017</td>\n",
       "      <td>16:00:00</td>\n",
       "      <td>REGULAR</td>\n",
       "      <td>6225248</td>\n",
       "      <td>2107513</td>\n",
       "      <td>2017-06-17 16:00:00</td>\n",
       "      <td>243.0</td>\n",
       "      <td>61.0</td>\n",
       "    </tr>\n",
       "  </tbody>\n",
       "</table>\n",
       "</div>"
      ],
      "text/plain": [
       "    C/A  UNIT       SCP STATION LINENAME DIVISION        DATE      TIME  \\\n",
       "0  A002  R051  02-00-00   59 ST  NQR456W      BMT  06/17/2017  00:00:00   \n",
       "1  A002  R051  02-00-00   59 ST  NQR456W      BMT  06/17/2017  04:00:00   \n",
       "2  A002  R051  02-00-00   59 ST  NQR456W      BMT  06/17/2017  08:00:00   \n",
       "3  A002  R051  02-00-00   59 ST  NQR456W      BMT  06/17/2017  12:00:00   \n",
       "4  A002  R051  02-00-00   59 ST  NQR456W      BMT  06/17/2017  16:00:00   \n",
       "\n",
       "      DESC  ENTRIES    EXITS           DATE_TIME  REAL_ENTRIES  REAL_EXITS  \n",
       "0  REGULAR  6224816  2107317 2017-06-17 00:00:00           NaN         NaN  \n",
       "1  REGULAR  6224850  2107322 2017-06-17 04:00:00          34.0         5.0  \n",
       "2  REGULAR  6224885  2107352 2017-06-17 08:00:00          35.0        30.0  \n",
       "3  REGULAR  6225005  2107452 2017-06-17 12:00:00         120.0       100.0  \n",
       "4  REGULAR  6225248  2107513 2017-06-17 16:00:00         243.0        61.0  "
      ]
     },
     "execution_count": 6,
     "metadata": {},
     "output_type": "execute_result"
    }
   ],
   "source": [
    "turns_df[\"DATE_TIME\"] = pd.to_datetime(turns_df.DATE + \" \" + turns_df.TIME, format=\"%m/%d/%Y %H:%M:%S\")\n",
    "turns_stations = turns_df \n",
    "turns_stations[[\"REAL_ENTRIES\", \"REAL_EXITS\"]] = (turns_stations.groupby([\"C/A\", \"UNIT\", \"SCP\", \"STATION\"])\n",
    "                                                  [\"ENTRIES\", \"EXITS\"]\n",
    "                                                  .transform(lambda x: x - x.shift(1)))\n",
    "turns_stations.head()"
   ]
  },
  {
   "cell_type": "code",
   "execution_count": 7,
   "metadata": {},
   "outputs": [
    {
     "data": {
      "text/plain": [
       "2.380759411597844"
      ]
     },
     "execution_count": 7,
     "metadata": {},
     "output_type": "execute_result"
    }
   ],
   "source": [
    "# Percentage of NaN in real entries or real exits overall\n",
    "100 * len(turns_stations[(turns_stations[\"REAL_ENTRIES\"].isnull()) | (turns_stations[\"REAL_EXITS\"].isnull())])/len(turns_stations)"
   ]
  },
  {
   "cell_type": "code",
   "execution_count": 8,
   "metadata": {},
   "outputs": [
    {
     "data": {
      "text/html": [
       "<div>\n",
       "<style scoped>\n",
       "    .dataframe tbody tr th:only-of-type {\n",
       "        vertical-align: middle;\n",
       "    }\n",
       "\n",
       "    .dataframe tbody tr th {\n",
       "        vertical-align: top;\n",
       "    }\n",
       "\n",
       "    .dataframe thead th {\n",
       "        text-align: right;\n",
       "    }\n",
       "</style>\n",
       "<table border=\"1\" class=\"dataframe\">\n",
       "  <thead>\n",
       "    <tr style=\"text-align: right;\">\n",
       "      <th></th>\n",
       "      <th>C/A</th>\n",
       "      <th>UNIT</th>\n",
       "      <th>SCP</th>\n",
       "      <th>STATION</th>\n",
       "      <th>LINENAME</th>\n",
       "      <th>DIVISION</th>\n",
       "      <th>DATE</th>\n",
       "      <th>TIME</th>\n",
       "      <th>DESC</th>\n",
       "      <th>ENTRIES</th>\n",
       "      <th>EXITS</th>\n",
       "      <th>DATE_TIME</th>\n",
       "      <th>REAL_ENTRIES</th>\n",
       "      <th>REAL_EXITS</th>\n",
       "      <th>TOTAL_REAL</th>\n",
       "    </tr>\n",
       "  </thead>\n",
       "  <tbody>\n",
       "    <tr>\n",
       "      <th>1</th>\n",
       "      <td>A002</td>\n",
       "      <td>R051</td>\n",
       "      <td>02-00-00</td>\n",
       "      <td>59 ST</td>\n",
       "      <td>NQR456W</td>\n",
       "      <td>BMT</td>\n",
       "      <td>06/17/2017</td>\n",
       "      <td>04:00:00</td>\n",
       "      <td>REGULAR</td>\n",
       "      <td>6224850</td>\n",
       "      <td>2107322</td>\n",
       "      <td>2017-06-17 04:00:00</td>\n",
       "      <td>34.0</td>\n",
       "      <td>5.0</td>\n",
       "      <td>39.0</td>\n",
       "    </tr>\n",
       "    <tr>\n",
       "      <th>2</th>\n",
       "      <td>A002</td>\n",
       "      <td>R051</td>\n",
       "      <td>02-00-00</td>\n",
       "      <td>59 ST</td>\n",
       "      <td>NQR456W</td>\n",
       "      <td>BMT</td>\n",
       "      <td>06/17/2017</td>\n",
       "      <td>08:00:00</td>\n",
       "      <td>REGULAR</td>\n",
       "      <td>6224885</td>\n",
       "      <td>2107352</td>\n",
       "      <td>2017-06-17 08:00:00</td>\n",
       "      <td>35.0</td>\n",
       "      <td>30.0</td>\n",
       "      <td>65.0</td>\n",
       "    </tr>\n",
       "    <tr>\n",
       "      <th>3</th>\n",
       "      <td>A002</td>\n",
       "      <td>R051</td>\n",
       "      <td>02-00-00</td>\n",
       "      <td>59 ST</td>\n",
       "      <td>NQR456W</td>\n",
       "      <td>BMT</td>\n",
       "      <td>06/17/2017</td>\n",
       "      <td>12:00:00</td>\n",
       "      <td>REGULAR</td>\n",
       "      <td>6225005</td>\n",
       "      <td>2107452</td>\n",
       "      <td>2017-06-17 12:00:00</td>\n",
       "      <td>120.0</td>\n",
       "      <td>100.0</td>\n",
       "      <td>220.0</td>\n",
       "    </tr>\n",
       "    <tr>\n",
       "      <th>4</th>\n",
       "      <td>A002</td>\n",
       "      <td>R051</td>\n",
       "      <td>02-00-00</td>\n",
       "      <td>59 ST</td>\n",
       "      <td>NQR456W</td>\n",
       "      <td>BMT</td>\n",
       "      <td>06/17/2017</td>\n",
       "      <td>16:00:00</td>\n",
       "      <td>REGULAR</td>\n",
       "      <td>6225248</td>\n",
       "      <td>2107513</td>\n",
       "      <td>2017-06-17 16:00:00</td>\n",
       "      <td>243.0</td>\n",
       "      <td>61.0</td>\n",
       "      <td>304.0</td>\n",
       "    </tr>\n",
       "    <tr>\n",
       "      <th>5</th>\n",
       "      <td>A002</td>\n",
       "      <td>R051</td>\n",
       "      <td>02-00-00</td>\n",
       "      <td>59 ST</td>\n",
       "      <td>NQR456W</td>\n",
       "      <td>BMT</td>\n",
       "      <td>06/17/2017</td>\n",
       "      <td>20:00:00</td>\n",
       "      <td>REGULAR</td>\n",
       "      <td>6225548</td>\n",
       "      <td>2107565</td>\n",
       "      <td>2017-06-17 20:00:00</td>\n",
       "      <td>300.0</td>\n",
       "      <td>52.0</td>\n",
       "      <td>352.0</td>\n",
       "    </tr>\n",
       "  </tbody>\n",
       "</table>\n",
       "</div>"
      ],
      "text/plain": [
       "    C/A  UNIT       SCP STATION LINENAME DIVISION        DATE      TIME  \\\n",
       "1  A002  R051  02-00-00   59 ST  NQR456W      BMT  06/17/2017  04:00:00   \n",
       "2  A002  R051  02-00-00   59 ST  NQR456W      BMT  06/17/2017  08:00:00   \n",
       "3  A002  R051  02-00-00   59 ST  NQR456W      BMT  06/17/2017  12:00:00   \n",
       "4  A002  R051  02-00-00   59 ST  NQR456W      BMT  06/17/2017  16:00:00   \n",
       "5  A002  R051  02-00-00   59 ST  NQR456W      BMT  06/17/2017  20:00:00   \n",
       "\n",
       "      DESC  ENTRIES    EXITS           DATE_TIME  REAL_ENTRIES  REAL_EXITS  \\\n",
       "1  REGULAR  6224850  2107322 2017-06-17 04:00:00          34.0         5.0   \n",
       "2  REGULAR  6224885  2107352 2017-06-17 08:00:00          35.0        30.0   \n",
       "3  REGULAR  6225005  2107452 2017-06-17 12:00:00         120.0       100.0   \n",
       "4  REGULAR  6225248  2107513 2017-06-17 16:00:00         243.0        61.0   \n",
       "5  REGULAR  6225548  2107565 2017-06-17 20:00:00         300.0        52.0   \n",
       "\n",
       "   TOTAL_REAL  \n",
       "1        39.0  \n",
       "2        65.0  \n",
       "3       220.0  \n",
       "4       304.0  \n",
       "5       352.0  "
      ]
     },
     "execution_count": 8,
     "metadata": {},
     "output_type": "execute_result"
    }
   ],
   "source": [
    "turns_stations.dropna(subset=[\"REAL_ENTRIES\", \"REAL_EXITS\"], axis=0, inplace=True)\n",
    "turns_stations[\"TOTAL_REAL\"] = turns_stations[\"REAL_ENTRIES\"] + turns_stations[\"REAL_EXITS\"]\n",
    "turns_stations.head()"
   ]
  },
  {
   "cell_type": "code",
   "execution_count": 9,
   "metadata": {},
   "outputs": [
    {
     "data": {
      "text/plain": [
       "0.8302372402914133"
      ]
     },
     "execution_count": 9,
     "metadata": {},
     "output_type": "execute_result"
    }
   ],
   "source": [
    "# Percentage of negative entries in real entries overall\n",
    "100 * len(turns_stations[turns_stations[\"REAL_ENTRIES\"] < 0])/len(turns_stations)"
   ]
  },
  {
   "cell_type": "code",
   "execution_count": 10,
   "metadata": {},
   "outputs": [
    {
     "data": {
      "text/plain": [
       "0.6600386060316735"
      ]
     },
     "execution_count": 10,
     "metadata": {},
     "output_type": "execute_result"
    }
   ],
   "source": [
    "# Percentage of negative entries in real exits overall\n",
    "100 * len(turns_stations[turns_stations[\"REAL_EXITS\"] < 0])/len(turns_stations)"
   ]
  },
  {
   "cell_type": "code",
   "execution_count": 11,
   "metadata": {},
   "outputs": [
    {
     "data": {
      "text/plain": [
       "STATION\n",
       "6 AV               20.098039\n",
       "104 ST             18.836565\n",
       "174 ST             16.666667\n",
       "EASTCHSTER/DYRE    14.634146\n",
       "GRAND-NEWTOWN       8.367347\n",
       "57 ST-7 AV          7.253886\n",
       "125 ST              6.958474\n",
       "3 AV-149 ST         6.677524\n",
       "BROOKLYN BRIDGE     6.029412\n",
       "FRANKLIN AV         5.907781\n",
       "dtype: float64"
      ]
     },
     "execution_count": 11,
     "metadata": {},
     "output_type": "execute_result"
    }
   ],
   "source": [
    "# Percentage of negative entries in real entries per station\n",
    "100 * (turns_stations[turns_stations[\"REAL_ENTRIES\"] < 0].groupby([\"STATION\"]).size()/turns_stations.groupby([\"STATION\"])\n",
    " .size()).dropna().sort_values(ascending = False).head(10)"
   ]
  },
  {
   "cell_type": "code",
   "execution_count": 12,
   "metadata": {},
   "outputs": [
    {
     "data": {
      "text/plain": [
       "STATION\n",
       "AVENUE I           25.000000\n",
       "6 AV               19.607843\n",
       "163 ST-AMSTERDM    16.666667\n",
       "174 ST             16.666667\n",
       "HIGH ST            16.666667\n",
       "57 ST-7 AV         14.507772\n",
       "104 ST             13.573407\n",
       "75 AV              10.024450\n",
       "18 AV               9.090909\n",
       "GRAND-NEWTOWN       8.367347\n",
       "dtype: float64"
      ]
     },
     "execution_count": 12,
     "metadata": {},
     "output_type": "execute_result"
    }
   ],
   "source": [
    "# Percentage of negative entries in real exits per station\n",
    "100 * (turns_stations[turns_stations[\"REAL_EXITS\"] < 0].groupby([\"STATION\"]).size()/turns_stations.groupby([\"STATION\"])\n",
    " .size()).dropna().sort_values(ascending = False).head(10)"
   ]
  },
  {
   "cell_type": "code",
   "execution_count": 13,
   "metadata": {},
   "outputs": [],
   "source": [
    "#Droping all negative entries  \n",
    "turns_stations = (turns_stations.drop(turns_stations\n",
    "                    [(turns_stations[\"REAL_EXITS\"] < 0) | (turns_stations[\"REAL_ENTRIES\"] < 0)].index))"
   ]
  },
  {
   "cell_type": "code",
   "execution_count": 14,
   "metadata": {},
   "outputs": [
    {
     "data": {
      "text/html": [
       "<div>\n",
       "<style scoped>\n",
       "    .dataframe tbody tr th:only-of-type {\n",
       "        vertical-align: middle;\n",
       "    }\n",
       "\n",
       "    .dataframe tbody tr th {\n",
       "        vertical-align: top;\n",
       "    }\n",
       "\n",
       "    .dataframe thead th {\n",
       "        text-align: right;\n",
       "    }\n",
       "</style>\n",
       "<table border=\"1\" class=\"dataframe\">\n",
       "  <thead>\n",
       "    <tr style=\"text-align: right;\">\n",
       "      <th></th>\n",
       "      <th></th>\n",
       "      <th>ENTRIES</th>\n",
       "      <th>EXITS</th>\n",
       "      <th>REAL_ENTRIES</th>\n",
       "      <th>REAL_EXITS</th>\n",
       "      <th>TOTAL_REAL</th>\n",
       "    </tr>\n",
       "    <tr>\n",
       "      <th>STATION</th>\n",
       "      <th>DATE_TIME</th>\n",
       "      <th></th>\n",
       "      <th></th>\n",
       "      <th></th>\n",
       "      <th></th>\n",
       "      <th></th>\n",
       "    </tr>\n",
       "  </thead>\n",
       "  <tbody>\n",
       "    <tr>\n",
       "      <th>PROSPECT PARK</th>\n",
       "      <th>2017-06-19 12:00:00</th>\n",
       "      <td>1606303080</td>\n",
       "      <td>823278675</td>\n",
       "      <td>1.566070e+09</td>\n",
       "      <td>785939439.0</td>\n",
       "      <td>2.352009e+09</td>\n",
       "    </tr>\n",
       "    <tr>\n",
       "      <th>1 AV</th>\n",
       "      <th>2017-06-18 16:00:00</th>\n",
       "      <td>3039154335</td>\n",
       "      <td>1638512980</td>\n",
       "      <td>1.621025e+09</td>\n",
       "      <td>167108395.0</td>\n",
       "      <td>1.788133e+09</td>\n",
       "    </tr>\n",
       "    <tr>\n",
       "      <th>HARRISON</th>\n",
       "      <th>2017-06-20 12:36:36</th>\n",
       "      <td>209353</td>\n",
       "      <td>2256196</td>\n",
       "      <td>1.859180e+05</td>\n",
       "      <td>2078346.0</td>\n",
       "      <td>2.264264e+06</td>\n",
       "    </tr>\n",
       "    <tr>\n",
       "      <th rowspan=\"4\" valign=\"top\">34 ST-HERALD SQ</th>\n",
       "      <th>2017-06-20 20:00:00</th>\n",
       "      <td>1642007860</td>\n",
       "      <td>1328545792</td>\n",
       "      <td>5.281700e+04</td>\n",
       "      <td>32987.0</td>\n",
       "      <td>8.580400e+04</td>\n",
       "    </tr>\n",
       "    <tr>\n",
       "      <th>2017-06-21 20:00:00</th>\n",
       "      <td>1642131325</td>\n",
       "      <td>1328657406</td>\n",
       "      <td>5.380500e+04</td>\n",
       "      <td>31856.0</td>\n",
       "      <td>8.566100e+04</td>\n",
       "    </tr>\n",
       "    <tr>\n",
       "      <th>2017-06-22 20:00:00</th>\n",
       "      <td>1642254033</td>\n",
       "      <td>1328769237</td>\n",
       "      <td>5.204300e+04</td>\n",
       "      <td>31942.0</td>\n",
       "      <td>8.398500e+04</td>\n",
       "    </tr>\n",
       "    <tr>\n",
       "      <th>2017-06-19 20:00:00</th>\n",
       "      <td>1641890693</td>\n",
       "      <td>1328440336</td>\n",
       "      <td>4.979000e+04</td>\n",
       "      <td>32990.0</td>\n",
       "      <td>8.278000e+04</td>\n",
       "    </tr>\n",
       "    <tr>\n",
       "      <th>34 ST-PENN STA</th>\n",
       "      <th>2017-06-19 20:00:00</th>\n",
       "      <td>728856628</td>\n",
       "      <td>355389908</td>\n",
       "      <td>3.525900e+04</td>\n",
       "      <td>45476.0</td>\n",
       "      <td>8.073500e+04</td>\n",
       "    </tr>\n",
       "    <tr>\n",
       "      <th>34 ST-HERALD SQ</th>\n",
       "      <th>2017-06-23 20:00:00</th>\n",
       "      <td>1642374569</td>\n",
       "      <td>1328881791</td>\n",
       "      <td>4.713600e+04</td>\n",
       "      <td>32088.0</td>\n",
       "      <td>7.922400e+04</td>\n",
       "    </tr>\n",
       "    <tr>\n",
       "      <th>34 ST-PENN STA</th>\n",
       "      <th>2017-06-21 20:00:00</th>\n",
       "      <td>729092004</td>\n",
       "      <td>355602970</td>\n",
       "      <td>3.498400e+04</td>\n",
       "      <td>42936.0</td>\n",
       "      <td>7.792000e+04</td>\n",
       "    </tr>\n",
       "  </tbody>\n",
       "</table>\n",
       "</div>"
      ],
      "text/plain": [
       "                                        ENTRIES       EXITS  REAL_ENTRIES  \\\n",
       "STATION         DATE_TIME                                                   \n",
       "PROSPECT PARK   2017-06-19 12:00:00  1606303080   823278675  1.566070e+09   \n",
       "1 AV            2017-06-18 16:00:00  3039154335  1638512980  1.621025e+09   \n",
       "HARRISON        2017-06-20 12:36:36      209353     2256196  1.859180e+05   \n",
       "34 ST-HERALD SQ 2017-06-20 20:00:00  1642007860  1328545792  5.281700e+04   \n",
       "                2017-06-21 20:00:00  1642131325  1328657406  5.380500e+04   \n",
       "                2017-06-22 20:00:00  1642254033  1328769237  5.204300e+04   \n",
       "                2017-06-19 20:00:00  1641890693  1328440336  4.979000e+04   \n",
       "34 ST-PENN STA  2017-06-19 20:00:00   728856628   355389908  3.525900e+04   \n",
       "34 ST-HERALD SQ 2017-06-23 20:00:00  1642374569  1328881791  4.713600e+04   \n",
       "34 ST-PENN STA  2017-06-21 20:00:00   729092004   355602970  3.498400e+04   \n",
       "\n",
       "                                      REAL_EXITS    TOTAL_REAL  \n",
       "STATION         DATE_TIME                                       \n",
       "PROSPECT PARK   2017-06-19 12:00:00  785939439.0  2.352009e+09  \n",
       "1 AV            2017-06-18 16:00:00  167108395.0  1.788133e+09  \n",
       "HARRISON        2017-06-20 12:36:36    2078346.0  2.264264e+06  \n",
       "34 ST-HERALD SQ 2017-06-20 20:00:00      32987.0  8.580400e+04  \n",
       "                2017-06-21 20:00:00      31856.0  8.566100e+04  \n",
       "                2017-06-22 20:00:00      31942.0  8.398500e+04  \n",
       "                2017-06-19 20:00:00      32990.0  8.278000e+04  \n",
       "34 ST-PENN STA  2017-06-19 20:00:00      45476.0  8.073500e+04  \n",
       "34 ST-HERALD SQ 2017-06-23 20:00:00      32088.0  7.922400e+04  \n",
       "34 ST-PENN STA  2017-06-21 20:00:00      42936.0  7.792000e+04  "
      ]
     },
     "execution_count": 14,
     "metadata": {},
     "output_type": "execute_result"
    }
   ],
   "source": [
    "# Where and when we have more people\n",
    "(turns_stations.groupby([\"STATION\",\"DATE_TIME\"])).sum().sort_values(\"TOTAL_REAL\", ascending = False).head(10)"
   ]
  },
  {
   "cell_type": "code",
   "execution_count": 15,
   "metadata": {},
   "outputs": [],
   "source": [
    "#Droping stations with a number of entries larger than 100000\n",
    "turns_stations = (turns_stations.drop(turns_stations[turns_stations[\"REAL_EXITS\"] > 100000].index))"
   ]
  },
  {
   "cell_type": "code",
   "execution_count": 16,
   "metadata": {},
   "outputs": [],
   "source": [
    "turns_stations_days = (turns_stations.groupby([\"STATION\",\"DATE\"])).sum().sort_values(\"TOTAL_REAL\", ascending = False).reset_index()"
   ]
  },
  {
   "cell_type": "code",
   "execution_count": 17,
   "metadata": {},
   "outputs": [
    {
     "data": {
      "text/plain": [
       "array(['34 ST-PENN STA', 'GRD CNTRL-42 ST', '34 ST-HERALD SQ',\n",
       "       'TIMES SQ-42 ST', '23 ST', '14 ST-UNION SQ', 'FULTON ST',\n",
       "       '42 ST-PORT AUTH', '86 ST', '59 ST'], dtype=object)"
      ]
     },
     "execution_count": 17,
     "metadata": {},
     "output_type": "execute_result"
    }
   ],
   "source": [
    "turns_stations_days[\"STATION\"].head(50).unique()"
   ]
  },
  {
   "cell_type": "code",
   "execution_count": null,
   "metadata": {},
   "outputs": [],
   "source": []
  }
 ],
 "metadata": {
  "kernelspec": {
   "display_name": "Python 3",
   "language": "python",
   "name": "python3"
  },
  "language_info": {
   "codemirror_mode": {
    "name": "ipython",
    "version": 3
   },
   "file_extension": ".py",
   "mimetype": "text/x-python",
   "name": "python",
   "nbconvert_exporter": "python",
   "pygments_lexer": "ipython3",
   "version": "3.6.4"
  }
 },
 "nbformat": 4,
 "nbformat_minor": 2
}
