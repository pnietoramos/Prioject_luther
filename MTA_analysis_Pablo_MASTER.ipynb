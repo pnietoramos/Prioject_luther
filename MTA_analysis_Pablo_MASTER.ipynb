{
 "cells": [
  {
   "cell_type": "code",
   "execution_count": 1,
   "metadata": {},
   "outputs": [],
   "source": [
    "import pandas as pd\n",
    "import requests\n",
    "import pickle\n",
    "from datetime import datetime as dt"
   ]
  },
  {
   "cell_type": "code",
   "execution_count": 2,
   "metadata": {},
   "outputs": [],
   "source": [
    "def get_data(week_nums):\n",
    "    url = \"http://web.mta.info/developers/data/nyct/turnstile/turnstile_{}.txt\"\n",
    "    dfs = []\n",
    "    for week_num in week_nums:\n",
    "        file_url = url.format(week_num)\n",
    "        dfs.append(pd.read_csv(file_url))\n",
    "    return pd.concat(dfs)"
   ]
  },
  {
   "cell_type": "code",
   "execution_count": 3,
   "metadata": {},
   "outputs": [],
   "source": [
    "#Rutine to clean and format the MTA data\n",
    "def clean_n_format(turns_df, upper_lim):\n",
    "    turns_df.rename(columns={column:column.strip() for column in turns_df.columns}, inplace=True)\n",
    "    turns_stations = turns_df \n",
    "    #Getting entries and exits per time interval\n",
    "    turns_stations[[\"REAL_ENTRIES\", \"REAL_EXITS\"]] = (turns_stations.groupby([\"C/A\", \"UNIT\", \"SCP\", \"STATION\",\"DATE\"])\n",
    "                                                  [\"ENTRIES\", \"EXITS\"]\n",
    "                                                  .transform(lambda x: x - x.shift(1)))\n",
    "    #Droping negative entries and exits\n",
    "    turns_stations = (turns_stations.drop(turns_stations\n",
    "                    [(turns_stations[\"REAL_EXITS\"] < 0) | (turns_stations[\"REAL_ENTRIES\"] < 0)].index))\n",
    "    turns_stations[\"TOTAL_REAL\"] = turns_stations[\"REAL_ENTRIES\"] + turns_stations[\"REAL_EXITS\"]\n",
    "    turns_stations = (turns_stations.drop(turns_stations[turns_stations[\"TOTAL_REAL\"] > upper_lim].index))\n",
    "    #Adding up all entries+exits for each station at a given date and time interval \n",
    "    turns_stations_day_time = ((turns_stations.groupby([\"STATION\",\"DATE\",\"TIME\"])).sum().sort_values(\"TOTAL_REAL\", ascending = False)\n",
    "                           .reset_index())\n",
    "    return(turns_stations_day_time)"
   ]
  },
  {
   "cell_type": "code",
   "execution_count": 4,
   "metadata": {},
   "outputs": [],
   "source": [
    "#Break it up into morning + afternoon chunks\n",
    "def get_time_chunk(date_time_object):\n",
    "    dow = date_time_object.strftime('%A')\n",
    "    noon = date_time_object.replace(hour=12, minute=0, second=0)\n",
    "    if date_time_object.time() < noon.time() :\n",
    "        dow += ' Morning'\n",
    "    else :\n",
    "        dow += ' Afternoon'\n",
    "    return dow"
   ]
  },
  {
   "cell_type": "code",
   "execution_count": null,
   "metadata": {},
   "outputs": [],
   "source": [
    "week_ids = [180616, 180609, 180602,180526, 170617, 170610, 170603,170527, 160618, 160611, 160604,160528]\n",
    "#week_ids = [170624, 180609]"
   ]
  },
  {
   "cell_type": "code",
   "execution_count": null,
   "metadata": {},
   "outputs": [],
   "source": [
    "turns_df = get_data(week_ids)"
   ]
  },
  {
   "cell_type": "code",
   "execution_count": null,
   "metadata": {},
   "outputs": [],
   "source": [
    "turns_df_2 = clean_n_format(turns_df, 100000)"
   ]
  },
  {
   "cell_type": "code",
   "execution_count": null,
   "metadata": {},
   "outputs": [],
   "source": [
    "#Adding DATE_TIME column\n",
    "turns_df_2[\"DATE_TIME\"] = pd.to_datetime(turns_df_2.DATE + \" \" + turns_df_2.TIME, format=\"%m/%d/%Y %H:%M:%S\")"
   ]
  },
  {
   "cell_type": "code",
   "execution_count": null,
   "metadata": {},
   "outputs": [],
   "source": [
    "#Break it up into morning + afternoon chunks\n",
    "turns_df_2['DOW'] = turns_df_2['DATE_TIME'].apply(get_time_chunk)\n",
    "turns_df_2.head()"
   ]
  },
  {
   "cell_type": "code",
   "execution_count": null,
   "metadata": {},
   "outputs": [],
   "source": [
    "turns_stations_timechunks = ((turns_df_2.groupby([\"STATION\",\"DOW\"])).sum().reset_index())\n",
    "turns_stations_timechunks.sort_values(\"TOTAL_REAL\", ascending = False).head()"
   ]
  },
  {
   "cell_type": "code",
   "execution_count": null,
   "metadata": {},
   "outputs": [],
   "source": [
    "turns_stations_timechunks.to_csv(\"MTA_16_18.csv\")"
   ]
  },
  {
   "cell_type": "code",
   "execution_count": null,
   "metadata": {},
   "outputs": [],
   "source": []
  }
 ],
 "metadata": {
  "kernelspec": {
   "display_name": "Python 3",
   "language": "python",
   "name": "python3"
  },
  "language_info": {
   "codemirror_mode": {
    "name": "ipython",
    "version": 3
   },
   "file_extension": ".py",
   "mimetype": "text/x-python",
   "name": "python",
   "nbconvert_exporter": "python",
   "pygments_lexer": "ipython3",
   "version": "3.6.4"
  }
 },
 "nbformat": 4,
 "nbformat_minor": 2
}
