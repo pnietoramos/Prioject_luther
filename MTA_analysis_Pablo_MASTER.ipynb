{
 "cells": [
  {
   "cell_type": "code",
   "execution_count": 13,
   "metadata": {},
   "outputs": [],
   "source": [
    "import pandas as pd\n",
    "import requests\n",
    "import pickle\n",
    "from datetime import datetime as dt\n",
    "import matplotlib.pyplot as plt\n",
    "import seaborn as sns"
   ]
  },
  {
   "cell_type": "code",
   "execution_count": 14,
   "metadata": {},
   "outputs": [],
   "source": [
    "def get_data(week_nums):\n",
    "    url = \"http://web.mta.info/developers/data/nyct/turnstile/turnstile_{}.txt\"\n",
    "    dfs = []\n",
    "    for week_num in week_nums:\n",
    "        file_url = url.format(week_num)\n",
    "        dfs.append(pd.read_csv(file_url))\n",
    "    return pd.concat(dfs)"
   ]
  },
  {
   "cell_type": "code",
   "execution_count": 15,
   "metadata": {},
   "outputs": [],
   "source": [
    "#Rutine to clean and format the MTA data\n",
    "def clean_n_format(turns_df, upper_lim):\n",
    "    turns_df.rename(columns={column:column.strip() for column in turns_df.columns}, inplace=True)\n",
    "    turns_stations = turns_df \n",
    "    #Getting entries and exits per time interval\n",
    "    turns_stations[[\"REAL_ENTRIES\", \"REAL_EXITS\"]] = (turns_stations.groupby([\"C/A\", \"UNIT\", \"SCP\", \"STATION\",\"DATE\"])\n",
    "                                                  [\"ENTRIES\", \"EXITS\"]\n",
    "                                                  .transform(lambda x: x - x.shift(1)))\n",
    "    #Droping negative entries and exits\n",
    "    turns_stations = (turns_stations.drop(turns_stations\n",
    "                    [(turns_stations[\"REAL_EXITS\"] < 0) | (turns_stations[\"REAL_ENTRIES\"] < 0)].index))\n",
    "    turns_stations[\"TOTAL_REAL\"] = turns_stations[\"REAL_ENTRIES\"] + turns_stations[\"REAL_EXITS\"]\n",
    "    turns_stations = (turns_stations.drop(turns_stations[turns_stations[\"TOTAL_REAL\"] > upper_lim].index))\n",
    "    #Adding up all entries+exits for each station at a given date and time interval \n",
    "    turns_stations_day_time = ((turns_stations.groupby([\"STATION\",\"DATE\",\"TIME\"])).sum().sort_values(\"TOTAL_REAL\", ascending = False)\n",
    "                           .reset_index())\n",
    "    return(turns_stations_day_time)"
   ]
  },
  {
   "cell_type": "code",
   "execution_count": 16,
   "metadata": {},
   "outputs": [],
   "source": [
    "#Break it up into morning + afternoon chunks\n",
    "def get_time_chunk(date_time_object):\n",
    "    dow = date_time_object.strftime('%A')\n",
    "    noon = date_time_object.replace(hour=12, minute=0, second=0)\n",
    "    if date_time_object.time() < noon.time() :\n",
    "        dow += ' Morning'\n",
    "    else :\n",
    "        dow += ' Afternoon'\n",
    "    return dow"
   ]
  },
  {
   "cell_type": "code",
   "execution_count": 17,
   "metadata": {},
   "outputs": [],
   "source": [
    "#week_ids = [180616, 180609, 180602,180526, 170617, 170610, 170603,170527, 160618, 160611, 160604,160528]\n",
    "week_ids = [180616]"
   ]
  },
  {
   "cell_type": "code",
   "execution_count": 18,
   "metadata": {},
   "outputs": [],
   "source": [
    "turns_df = get_data(week_ids)"
   ]
  },
  {
   "cell_type": "code",
   "execution_count": 19,
   "metadata": {},
   "outputs": [],
   "source": [
    "turns_df_2 = clean_n_format(turns_df, 100000)"
   ]
  },
  {
   "cell_type": "code",
   "execution_count": 20,
   "metadata": {},
   "outputs": [],
   "source": [
    "#Adding DATE_TIME column\n",
    "turns_df_2[\"DATE_TIME\"] = pd.to_datetime(turns_df_2.DATE + \" \" + turns_df_2.TIME, format=\"%m/%d/%Y %H:%M:%S\")"
   ]
  },
  {
   "cell_type": "code",
   "execution_count": 21,
   "metadata": {},
   "outputs": [
    {
     "data": {
      "text/html": [
       "<div>\n",
       "<style scoped>\n",
       "    .dataframe tbody tr th:only-of-type {\n",
       "        vertical-align: middle;\n",
       "    }\n",
       "\n",
       "    .dataframe tbody tr th {\n",
       "        vertical-align: top;\n",
       "    }\n",
       "\n",
       "    .dataframe thead th {\n",
       "        text-align: right;\n",
       "    }\n",
       "</style>\n",
       "<table border=\"1\" class=\"dataframe\">\n",
       "  <thead>\n",
       "    <tr style=\"text-align: right;\">\n",
       "      <th></th>\n",
       "      <th>STATION</th>\n",
       "      <th>DATE</th>\n",
       "      <th>TIME</th>\n",
       "      <th>ENTRIES</th>\n",
       "      <th>EXITS</th>\n",
       "      <th>REAL_ENTRIES</th>\n",
       "      <th>REAL_EXITS</th>\n",
       "      <th>TOTAL_REAL</th>\n",
       "      <th>DATE_TIME</th>\n",
       "      <th>DOW</th>\n",
       "    </tr>\n",
       "  </thead>\n",
       "  <tbody>\n",
       "    <tr>\n",
       "      <th>0</th>\n",
       "      <td>34 ST-HERALD SQ</td>\n",
       "      <td>06/13/2018</td>\n",
       "      <td>20:00:00</td>\n",
       "      <td>1551289666</td>\n",
       "      <td>1352903004</td>\n",
       "      <td>51895.0</td>\n",
       "      <td>31802.0</td>\n",
       "      <td>83697.0</td>\n",
       "      <td>2018-06-13 20:00:00</td>\n",
       "      <td>Wednesday Afternoon</td>\n",
       "    </tr>\n",
       "    <tr>\n",
       "      <th>1</th>\n",
       "      <td>34 ST-HERALD SQ</td>\n",
       "      <td>06/14/2018</td>\n",
       "      <td>20:00:00</td>\n",
       "      <td>1551408597</td>\n",
       "      <td>1353014165</td>\n",
       "      <td>50291.0</td>\n",
       "      <td>32937.0</td>\n",
       "      <td>83228.0</td>\n",
       "      <td>2018-06-14 20:00:00</td>\n",
       "      <td>Thursday Afternoon</td>\n",
       "    </tr>\n",
       "    <tr>\n",
       "      <th>2</th>\n",
       "      <td>34 ST-HERALD SQ</td>\n",
       "      <td>06/12/2018</td>\n",
       "      <td>20:00:00</td>\n",
       "      <td>1551169419</td>\n",
       "      <td>1352792806</td>\n",
       "      <td>51797.0</td>\n",
       "      <td>31364.0</td>\n",
       "      <td>83161.0</td>\n",
       "      <td>2018-06-12 20:00:00</td>\n",
       "      <td>Tuesday Afternoon</td>\n",
       "    </tr>\n",
       "    <tr>\n",
       "      <th>3</th>\n",
       "      <td>34 ST-PENN STA</td>\n",
       "      <td>06/13/2018</td>\n",
       "      <td>20:00:00</td>\n",
       "      <td>1908770123</td>\n",
       "      <td>1709205488</td>\n",
       "      <td>35127.0</td>\n",
       "      <td>46377.0</td>\n",
       "      <td>81504.0</td>\n",
       "      <td>2018-06-13 20:00:00</td>\n",
       "      <td>Wednesday Afternoon</td>\n",
       "    </tr>\n",
       "    <tr>\n",
       "      <th>4</th>\n",
       "      <td>34 ST-PENN STA</td>\n",
       "      <td>06/14/2018</td>\n",
       "      <td>20:00:00</td>\n",
       "      <td>1908891139</td>\n",
       "      <td>1709315617</td>\n",
       "      <td>34866.0</td>\n",
       "      <td>45821.0</td>\n",
       "      <td>80687.0</td>\n",
       "      <td>2018-06-14 20:00:00</td>\n",
       "      <td>Thursday Afternoon</td>\n",
       "    </tr>\n",
       "  </tbody>\n",
       "</table>\n",
       "</div>"
      ],
      "text/plain": [
       "           STATION        DATE      TIME     ENTRIES       EXITS  \\\n",
       "0  34 ST-HERALD SQ  06/13/2018  20:00:00  1551289666  1352903004   \n",
       "1  34 ST-HERALD SQ  06/14/2018  20:00:00  1551408597  1353014165   \n",
       "2  34 ST-HERALD SQ  06/12/2018  20:00:00  1551169419  1352792806   \n",
       "3   34 ST-PENN STA  06/13/2018  20:00:00  1908770123  1709205488   \n",
       "4   34 ST-PENN STA  06/14/2018  20:00:00  1908891139  1709315617   \n",
       "\n",
       "   REAL_ENTRIES  REAL_EXITS  TOTAL_REAL           DATE_TIME  \\\n",
       "0       51895.0     31802.0     83697.0 2018-06-13 20:00:00   \n",
       "1       50291.0     32937.0     83228.0 2018-06-14 20:00:00   \n",
       "2       51797.0     31364.0     83161.0 2018-06-12 20:00:00   \n",
       "3       35127.0     46377.0     81504.0 2018-06-13 20:00:00   \n",
       "4       34866.0     45821.0     80687.0 2018-06-14 20:00:00   \n",
       "\n",
       "                   DOW  \n",
       "0  Wednesday Afternoon  \n",
       "1   Thursday Afternoon  \n",
       "2    Tuesday Afternoon  \n",
       "3  Wednesday Afternoon  \n",
       "4   Thursday Afternoon  "
      ]
     },
     "execution_count": 21,
     "metadata": {},
     "output_type": "execute_result"
    }
   ],
   "source": [
    "#Break it up into morning + afternoon chunks\n",
    "turns_df_2['DOW'] = turns_df_2['DATE_TIME'].apply(get_time_chunk)\n",
    "turns_df_2.head()"
   ]
  },
  {
   "cell_type": "code",
   "execution_count": 22,
   "metadata": {},
   "outputs": [
    {
     "data": {
      "text/html": [
       "<div>\n",
       "<style scoped>\n",
       "    .dataframe tbody tr th:only-of-type {\n",
       "        vertical-align: middle;\n",
       "    }\n",
       "\n",
       "    .dataframe tbody tr th {\n",
       "        vertical-align: top;\n",
       "    }\n",
       "\n",
       "    .dataframe thead th {\n",
       "        text-align: right;\n",
       "    }\n",
       "</style>\n",
       "<table border=\"1\" class=\"dataframe\">\n",
       "  <thead>\n",
       "    <tr style=\"text-align: right;\">\n",
       "      <th></th>\n",
       "      <th>STATION</th>\n",
       "      <th>DOW</th>\n",
       "      <th>ENTRIES</th>\n",
       "      <th>EXITS</th>\n",
       "      <th>REAL_ENTRIES</th>\n",
       "      <th>REAL_EXITS</th>\n",
       "      <th>TOTAL_REAL</th>\n",
       "    </tr>\n",
       "  </thead>\n",
       "  <tbody>\n",
       "    <tr>\n",
       "      <th>837</th>\n",
       "      <td>34 ST-PENN STA</td>\n",
       "      <td>Wednesday Afternoon</td>\n",
       "      <td>11941724506</td>\n",
       "      <td>8836266926</td>\n",
       "      <td>120289.0</td>\n",
       "      <td>122848.0</td>\n",
       "      <td>243137.0</td>\n",
       "    </tr>\n",
       "    <tr>\n",
       "      <th>3230</th>\n",
       "      <td>GRD CNTRL-42 ST</td>\n",
       "      <td>Wednesday Afternoon</td>\n",
       "      <td>3070848076</td>\n",
       "      <td>2873378212</td>\n",
       "      <td>132764.0</td>\n",
       "      <td>109086.0</td>\n",
       "      <td>241850.0</td>\n",
       "    </tr>\n",
       "    <tr>\n",
       "      <th>3226</th>\n",
       "      <td>GRD CNTRL-42 ST</td>\n",
       "      <td>Thursday Afternoon</td>\n",
       "      <td>3071337959</td>\n",
       "      <td>2873819465</td>\n",
       "      <td>131325.0</td>\n",
       "      <td>109521.0</td>\n",
       "      <td>240846.0</td>\n",
       "    </tr>\n",
       "    <tr>\n",
       "      <th>833</th>\n",
       "      <td>34 ST-PENN STA</td>\n",
       "      <td>Thursday Afternoon</td>\n",
       "      <td>11942253813</td>\n",
       "      <td>8836718258</td>\n",
       "      <td>119023.0</td>\n",
       "      <td>120751.0</td>\n",
       "      <td>239774.0</td>\n",
       "    </tr>\n",
       "    <tr>\n",
       "      <th>3228</th>\n",
       "      <td>GRD CNTRL-42 ST</td>\n",
       "      <td>Tuesday Afternoon</td>\n",
       "      <td>3070350031</td>\n",
       "      <td>2872932957</td>\n",
       "      <td>130597.0</td>\n",
       "      <td>106536.0</td>\n",
       "      <td>237133.0</td>\n",
       "    </tr>\n",
       "  </tbody>\n",
       "</table>\n",
       "</div>"
      ],
      "text/plain": [
       "              STATION                  DOW      ENTRIES       EXITS  \\\n",
       "837    34 ST-PENN STA  Wednesday Afternoon  11941724506  8836266926   \n",
       "3230  GRD CNTRL-42 ST  Wednesday Afternoon   3070848076  2873378212   \n",
       "3226  GRD CNTRL-42 ST   Thursday Afternoon   3071337959  2873819465   \n",
       "833    34 ST-PENN STA   Thursday Afternoon  11942253813  8836718258   \n",
       "3228  GRD CNTRL-42 ST    Tuesday Afternoon   3070350031  2872932957   \n",
       "\n",
       "      REAL_ENTRIES  REAL_EXITS  TOTAL_REAL  \n",
       "837       120289.0    122848.0    243137.0  \n",
       "3230      132764.0    109086.0    241850.0  \n",
       "3226      131325.0    109521.0    240846.0  \n",
       "833       119023.0    120751.0    239774.0  \n",
       "3228      130597.0    106536.0    237133.0  "
      ]
     },
     "execution_count": 22,
     "metadata": {},
     "output_type": "execute_result"
    }
   ],
   "source": [
    "turns_stations_timechunks = ((turns_df_2.groupby([\"STATION\",\"DOW\"])).sum().reset_index())\n",
    "turns_stations_timechunks.sort_values(\"TOTAL_REAL\", ascending = False).head()"
   ]
  },
  {
   "cell_type": "code",
   "execution_count": 23,
   "metadata": {},
   "outputs": [],
   "source": [
    "turns_stations_timechunks.to_csv(\"MTA_Sample.csv\")"
   ]
  },
  {
   "cell_type": "code",
   "execution_count": 50,
   "metadata": {},
   "outputs": [
    {
     "data": {
      "image/png": "[encoded data removed]",
      "text/plain": [
       "<Figure size 576x396 with 1 Axes>"
      ]
     },
     "metadata": {},
     "output_type": "display_data"
    }
   ],
   "source": [
    "plt.style.use(\"seaborn\")\n",
    "figura = plt.figure()\n",
    "Data_plot = (turns_stations_timechunks.sort_values(\"TOTAL_REAL\", ascending = False).reset_index())[\"TOTAL_REAL\"]/1000\n",
    "Data_plot.plot(y=\"Total number\")\n",
    "plt.xlabel(\"Ranking of shifts\",fontsize=18)\n",
    "plt.ylabel(\"Foot traffic per shift (x1000)\",fontsize=18)\n",
    "plt.xlim([-5,500])\n",
    "plt.tick_params(axis='both', labelsize=20)"
   ]
  },
  {
   "cell_type": "code",
   "execution_count": 51,
   "metadata": {},
   "outputs": [],
   "source": [
    "figura.savefig('Max_num.jpg')"
   ]
  },
  {
   "cell_type": "code",
   "execution_count": null,
   "metadata": {},
   "outputs": [],
   "source": [
    "(turns_stations_timechunks.sort_values(\"TOTAL_REAL\", ascending = False).reset_index())[\"TOTAL_REAL\"].head(20)"
   ]
  },
  {
   "cell_type": "code",
   "execution_count": null,
   "metadata": {},
   "outputs": [],
   "source": []
  }
 ],
 "metadata": {
  "kernelspec": {
   "display_name": "Python 3",
   "language": "python",
   "name": "python3"
  },
  "language_info": {
   "codemirror_mode": {
    "name": "ipython",
    "version": 3
   },
   "file_extension": ".py",
   "mimetype": "text/x-python",
   "name": "python",
   "nbconvert_exporter": "python",
   "pygments_lexer": "ipython3",
   "version": "3.6.4"
  }
 },
 "nbformat": 4,
 "nbformat_minor": 2
}
